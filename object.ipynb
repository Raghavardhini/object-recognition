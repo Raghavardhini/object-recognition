{
  "nbformat": 4,
  "nbformat_minor": 0,
  "metadata": {
    "colab": {
      "provenance": [],
      "authorship_tag": "ABX9TyNTUByuWG0uI69eIXdg5E5r",
      "include_colab_link": true
    },
    "kernelspec": {
      "name": "python3",
      "display_name": "Python 3"
    },
    "language_info": {
      "name": "python"
    }
  },
  "cells": [
    {
      "cell_type": "markdown",
      "metadata": {
        "id": "view-in-github",
        "colab_type": "text"
      },
      "source": [
        "<a href=\"https://colab.research.google.com/github/Raghavardhini/object-recognition/blob/main/object.ipynb\" target=\"_parent\"><img src=\"https://colab.research.google.com/assets/colab-badge.svg\" alt=\"Open In Colab\"/></a>"
      ]
    },
    {
      "cell_type": "code",
      "execution_count": null,
      "metadata": {
        "id": "uVYwT-f9cLUK"
      },
      "outputs": [],
      "source": [
        "from PIL import Image\n",
        "import numpy as np"
      ]
    },
    {
      "cell_type": "code",
      "source": [
        "def load_image(image_path):\n",
        "  return Image.open(image_path).convert('L')\n",
        "def image_to_array(image):\n",
        "  return np.array(image)\n",
        "def nrm(image_array):\n",
        "  mean=np.mean(image_array)\n",
        "  std=np.std(image_array)\n",
        "  return(image_array-mean)/std"
      ],
      "metadata": {
        "id": "BaxnSDxrcSyr"
      },
      "execution_count": null,
      "outputs": []
    },
    {
      "cell_type": "code",
      "source": [
        "def save_sub_image(image_array,top_left,size,file_name):\n",
        "  y,x=top_left\n",
        "  h,w=size\n",
        "  sub_image = image_array[y:y+h,x:x+w]\n",
        "  Image.fromarray(sub_image).save(file_name)"
      ],
      "metadata": {
        "id": "zTT5NJhQc3ZN"
      },
      "execution_count": null,
      "outputs": []
    },
    {
      "cell_type": "code",
      "source": [
        "def match_template(image,template):\n",
        "  image_array=nrm(image_to_array(image))\n",
        "  template_array = nrm(image_to_array(template))\n",
        "  img_h,img_w = image_array.shape\n",
        "  templ_h,templ_w = template_array.shape\n",
        "  best_match = Image.NONE\n",
        "  best_score = -float('inf')\n",
        "  template_mean = np.mean(template_array)\n",
        "  template_std = np.std(template_array)\n",
        "  for y in range(img_h - templ_h+1):\n",
        "    for x in range(img_w - templ_w + 1):\n",
        "      sub_image = image_array[y:y+templ_h,x:x+templ_w]\n",
        "      sub_image_mean = np.mean(sub_image)\n",
        "      sub_image_std = np.std(sub_image)\n",
        "      norm_sub_image = (sub_image - sub_image_mean)/sub_image_std\n",
        "      norm_template = (template_array - template_mean)/template_std\n",
        "      score = np.sum(norm_sub_image * norm_template)\n",
        "      print(f\"Matching region as({x}{y}, score {x}{y})\")\n",
        "      if score > best_score:\n",
        "        best_score = score\n",
        "        best_match = (y,x)\n",
        "  return best_match, best_score"
      ],
      "metadata": {
        "id": "TRdvfkx_dl2F"
      },
      "execution_count": null,
      "outputs": []
    },
    {
      "cell_type": "code",
      "source": [
        "image_path=\"/content/381.jpg\"\n",
        "template_path=\"/content/382.jpg\"\n",
        "image = load_image(image_path)\n",
        "template=load_image(image_path)\n",
        "best_match, best_score = match_template(image, template)\n",
        "print(f\"Best match found at: {best_match} with score: {best_score}\")"
      ],
      "metadata": {
        "colab": {
          "base_uri": "https://localhost:8080/"
        },
        "id": "7YqA8ZuigegA",
        "outputId": "6ae68c0f-bae9-4662-d611-fd800151500b"
      },
      "execution_count": null,
      "outputs": [
        {
          "output_type": "stream",
          "name": "stdout",
          "text": [
            "Matching region as(00, score 00)\n",
            "Best match found at: (0, 0) with score: 95480.00000000004\n"
          ]
        }
      ]
    }
  ]
}